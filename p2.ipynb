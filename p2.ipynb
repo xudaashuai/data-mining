{
 "cells": [
  {
   "cell_type": "code",
   "execution_count": 8,
   "metadata": {},
   "outputs": [],
   "source": [
    "import numpy as np\n",
    "import matplotlib.pyplot as plt\n",
    "%matplotlib inline"
   ]
  },
  {
   "cell_type": "code",
   "execution_count": 9,
   "metadata": {},
   "outputs": [],
   "source": [
    "f = open('iris.txt')\n",
    "data = []\n",
    "y=[]\n",
    "for i in f.read().split():\n",
    "    data.append([float(j)for j in i.split(',')[:-1]])\n",
    "    y.append(i.split(',')[-1])\n",
    "    \n",
    "data = np.array(data) # 原始数据\n",
    "n = data.shape[0] # 样本个数\n",
    "m = data.shape[1] # 样本维数"
   ]
  },
  {
   "cell_type": "markdown",
   "metadata": {},
   "source": [
    "## 2.1 计算中心化标准化后的数据的和矩阵"
   ]
  },
  {
   "cell_type": "code",
   "execution_count": 10,
   "metadata": {},
   "outputs": [
    {
     "data": {
      "text/plain": [
       "array([[ 4057.69  ,  5305.6656,  4748.5881, ...,  5449.3924,  7791.5929,\n",
       "         2198.6721],\n",
       "       [ 5305.6656,  6968.9104,  6244.1604, ...,  7133.4916, 10209.0816,\n",
       "         2849.4244],\n",
       "       [ 4748.5881,  6244.1604,  5598.0324, ...,  6372.8289,  9124.0704,\n",
       "         2568.4624],\n",
       "       ...,\n",
       "       [ 5449.3924,  7133.4916,  6372.8289, ...,  7433.8884, 10586.3521,\n",
       "         2769.9169],\n",
       "       [ 7791.5929, 10209.0816,  9124.0704, ..., 10586.3521, 15242.3716,\n",
       "         3928.7824],\n",
       "       [ 2198.6721,  2849.4244,  2568.4624, ...,  2769.9169,  3928.7824,\n",
       "         1588.8196]])"
      ]
     },
     "execution_count": 10,
     "metadata": {},
     "output_type": "execute_result"
    }
   ],
   "source": [
    "km1 = np.zeros([n,n])\n",
    "for i in range(n):\n",
    "    for j in range(n):\n",
    "        km1[i][j] = data[i].dot(data[j])**2\n",
    "km1"
   ]
  },
  {
   "cell_type": "code",
   "execution_count": 13,
   "metadata": {},
   "outputs": [
    {
     "data": {
      "text/plain": [
       "array([[0.40349685, 0.40405313, 0.40366731, ..., 0.40759841, 0.40526808,\n",
       "        0.38485212],\n",
       "       [0.60286502, 0.60619905, 0.60749824, ..., 0.60181116, 0.59823552,\n",
       "        0.60763806],\n",
       "       [0.51387007, 0.51811505, 0.51943772, ..., 0.51409044, 0.51162836,\n",
       "        0.51145033],\n",
       "       ...,\n",
       "       [0.62582584, 0.62620177, 0.62503442, ..., 0.63645335, 0.62834979,\n",
       "        0.58041856],\n",
       "       [1.        , 1.        , 1.        , ..., 1.        , 1.        ,\n",
       "        0.97715774],\n",
       "       [0.10651269, 0.10552874, 0.10653887, ..., 0.09859744, 0.09693296,\n",
       "        0.17606829]])"
      ]
     },
     "execution_count": 13,
     "metadata": {},
     "output_type": "execute_result"
    }
   ],
   "source": [
    "mean = np.mean(km1,axis=0)\n",
    "km1 = km1 - np.ones([n,1])*mean\n",
    "\n",
    "for i in range(n):\n",
    "    km1[:,i] = (km1[:,i] - np.min(km1[:,i])) /(np.max(km1[:,i])-np.min(km1[:,i]))\n",
    "km1"
   ]
  },
  {
   "cell_type": "markdown",
   "metadata": {},
   "source": [
    "## 2.2 再进行中心化和标准化"
   ]
  },
  {
   "cell_type": "code",
   "execution_count": 15,
   "metadata": {},
   "outputs": [
    {
     "data": {
      "text/plain": [
       "array([[34.81      ,  9.        , 17.64      , ..., 35.04421208,\n",
       "         6.36396103, 12.51579003],\n",
       "       [47.61      ,  9.61      , 24.01      , ..., 47.81456054,\n",
       "         6.57609307, 14.63711037],\n",
       "       [43.56      ,  8.41      , 21.16      , ..., 42.93552375,\n",
       "         5.33158513, 12.13395237],\n",
       "       ...,\n",
       "       [44.89      ,  9.        , 27.04      , ..., 49.27120051,\n",
       "         9.75807358, 21.793031  ],\n",
       "       [59.29      , 14.44      , 44.89      , ..., 72.95927768,\n",
       "        11.82282538, 23.95677775],\n",
       "       [26.01      , 11.56      ,  2.25      , ..., 10.81873375,\n",
       "         0.96166522,  1.44249783]])"
      ]
     },
     "execution_count": 15,
     "metadata": {},
     "output_type": "execute_result"
    }
   ],
   "source": [
    "s1 = np.zeros([n,10])\n",
    "a = 2.0**0.5\n",
    "for i in range(n):\n",
    "    s1[i] = np.array([data[i][0]**2,data[i][1]**2,data[i][2]**2,data[i][3]**2,\n",
    "                       a*data[i][0]*data[i][1],a*data[i][1]*data[i][2],a*data[i][2]*data[i][3],\n",
    "                       a*data[i][0]*data[i][2],a*data[i][1]*data[i][3],a*data[i][0]*data[i][3]])\n",
    "s1"
   ]
  },
  {
   "cell_type": "code",
   "execution_count": 16,
   "metadata": {},
   "outputs": [
    {
     "data": {
      "text/plain": [
       "array([[ 4057.69  ,  5305.6656,  4748.5881, ...,  5449.3924,  7791.5929,\n",
       "         2198.6721],\n",
       "       [ 5305.6656,  6968.9104,  6244.1604, ...,  7133.4916, 10209.0816,\n",
       "         2849.4244],\n",
       "       [ 4748.5881,  6244.1604,  5598.0324, ...,  6372.8289,  9124.0704,\n",
       "         2568.4624],\n",
       "       ...,\n",
       "       [ 5449.3924,  7133.4916,  6372.8289, ...,  7433.8884, 10586.3521,\n",
       "         2769.9169],\n",
       "       [ 7791.5929, 10209.0816,  9124.0704, ..., 10586.3521, 15242.3716,\n",
       "         3928.7824],\n",
       "       [ 2198.6721,  2849.4244,  2568.4624, ...,  2769.9169,  3928.7824,\n",
       "         1588.8196]])"
      ]
     },
     "execution_count": 16,
     "metadata": {},
     "output_type": "execute_result"
    }
   ],
   "source": [
    "km2 = np.zeros([n,n])\n",
    "for i in range(n):\n",
    "    for j in range(n):\n",
    "        km2[i][j] = s1[i].dot(s1[j])\n",
    "km2"
   ]
  },
  {
   "cell_type": "code",
   "execution_count": 17,
   "metadata": {},
   "outputs": [
    {
     "data": {
      "text/plain": [
       "array([[0.40349685, 0.40405313, 0.40366731, ..., 0.40759841, 0.40526808,\n",
       "        0.38485212],\n",
       "       [0.60286502, 0.60619905, 0.60749824, ..., 0.60181116, 0.59823552,\n",
       "        0.60763806],\n",
       "       [0.51387007, 0.51811505, 0.51943772, ..., 0.51409044, 0.51162836,\n",
       "        0.51145033],\n",
       "       ...,\n",
       "       [0.62582584, 0.62620177, 0.62503442, ..., 0.63645335, 0.62834979,\n",
       "        0.58041856],\n",
       "       [1.        , 1.        , 1.        , ..., 1.        , 1.        ,\n",
       "        0.97715774],\n",
       "       [0.10651269, 0.10552874, 0.10653887, ..., 0.09859744, 0.09693296,\n",
       "        0.17606829]])"
      ]
     },
     "execution_count": 17,
     "metadata": {},
     "output_type": "execute_result"
    }
   ],
   "source": [
    "mean2 = np.mean(km2,axis=0)\n",
    "z2 = km2 - np.ones([n,1])*mean2\n",
    "for i in range(n):\n",
    "    z2[:,i] = (z2[:,i] - np.min(z2[:,i])) /(np.max(z2[:,i])-np.min(z2[:,i]))\n",
    "z2"
   ]
  },
  {
   "cell_type": "code",
   "execution_count": null,
   "metadata": {},
   "outputs": [],
   "source": []
  }
 ],
 "metadata": {
  "kernelspec": {
   "display_name": "Python 3",
   "language": "python",
   "name": "python3"
  },
  "language_info": {
   "codemirror_mode": {
    "name": "ipython",
    "version": 3
   },
   "file_extension": ".py",
   "mimetype": "text/x-python",
   "name": "python",
   "nbconvert_exporter": "python",
   "pygments_lexer": "ipython3",
   "version": "3.5.2"
  }
 },
 "nbformat": 4,
 "nbformat_minor": 2
}
