{
 "cells": [
  {
   "cell_type": "code",
   "execution_count": 2,
   "metadata": {},
   "outputs": [],
   "source": [
    "import numpy as np\n",
    "import matplotlib.pyplot as plt\n",
    "%matplotlib inline"
   ]
  },
  {
   "cell_type": "markdown",
   "metadata": {},
   "source": [
    "## 数据读入啦"
   ]
  },
  {
   "cell_type": "code",
   "execution_count": 3,
   "metadata": {},
   "outputs": [],
   "source": [
    "f = open('magic04.txt')\n",
    "data = []\n",
    "y=[]\n",
    "for i in f.read().split():\n",
    "    data.append([float(j)for j in i.split(',')[:-1]])\n",
    "    y.append(i.split(',')[-1]=='g')"
   ]
  },
  {
   "cell_type": "markdown",
   "metadata": {},
   "source": [
    "## 初始数据处理"
   ]
  },
  {
   "cell_type": "code",
   "execution_count": 4,
   "metadata": {},
   "outputs": [],
   "source": [
    "data = np.array(data) # 原始数据\n",
    "n = data.shape[0] # 样本个数\n",
    "m = data.shape[1] # 样本维数\n"
   ]
  },
  {
   "cell_type": "markdown",
   "metadata": {},
   "source": [
    "## 1. 均值"
   ]
  },
  {
   "cell_type": "code",
   "execution_count": 5,
   "metadata": {},
   "outputs": [
    {
     "data": {
      "text/plain": [
       "array([ 53.25015393,  22.18096622,   2.82501696,   0.38032707,\n",
       "         0.21465713,  -4.33174516,  10.54554482,   0.24972596,\n",
       "        27.64570668, 193.81802647])"
      ]
     },
     "execution_count": 5,
     "metadata": {},
     "output_type": "execute_result"
    }
   ],
   "source": [
    "mean = np.mean(data,axis=0)\n",
    "mean"
   ]
  },
  {
   "cell_type": "markdown",
   "metadata": {},
   "source": [
    "## 中心化"
   ]
  },
  {
   "cell_type": "code",
   "execution_count": 6,
   "metadata": {},
   "outputs": [],
   "source": [
    "z = data - np.ones([n,1])*mean"
   ]
  },
  {
   "cell_type": "markdown",
   "metadata": {},
   "source": [
    "## 2. 样本均方差 - 1"
   ]
  },
  {
   "cell_type": "code",
   "execution_count": 8,
   "metadata": {},
   "outputs": [
    {
     "data": {
      "text/plain": [
       "array([[ 1.79468657e+03,  5.98832056e+02,  1.40634899e+01,\n",
       "        -4.88673783e+00, -2.80023307e+00, -9.24385500e+02,\n",
       "        -2.58713552e+02,  1.18133866e+01, -9.70630726e+00,\n",
       "         1.32479447e+03],\n",
       "       [ 5.98832056e+02,  3.36560086e+02,  6.22077467e+00,\n",
       "        -2.04502933e+00, -1.17816446e+00, -2.89957100e+02,\n",
       "        -1.64885064e+02,  1.51852884e+01,  3.16350305e+01,\n",
       "         4.61761921e+02],\n",
       "       [ 1.40634899e+01,  6.22077467e+00,  2.23337740e-01,\n",
       "        -7.35072146e-02, -4.22410108e-02, -4.47284297e+00,\n",
       "         2.29341395e+00,  1.52113339e-01, -2.30280376e+00,\n",
       "         1.54346558e+01],\n",
       "       [-4.88673783e+00, -2.04502933e+00, -7.35072146e-02,\n",
       "         3.34188897e-02,  1.97252425e-02,  1.21513100e+00,\n",
       "        -1.13646775e+00, -4.30002400e-02,  1.12267849e+00,\n",
       "        -4.48542469e+00],\n",
       "       [-2.80023307e+00, -1.17816446e+00, -4.22410108e-02,\n",
       "         1.97252425e-02,  1.22119946e-02,  6.55298229e-01,\n",
       "        -6.69353952e-01, -2.52377277e-02,  6.62872326e-01,\n",
       "        -2.51566226e+00],\n",
       "       [-9.24385500e+02, -2.89957100e+02, -4.47284297e+00,\n",
       "         1.21513100e+00,  6.55298229e-01,  3.50517348e+03,\n",
       "         8.27439241e+02,  3.14776536e+00, -8.60618247e+01,\n",
       "        -9.14642631e+02],\n",
       "       [-2.58713552e+02, -1.64885064e+02,  2.29341395e+00,\n",
       "        -1.13646775e+00, -6.69353952e-01,  8.27439241e+02,\n",
       "         2.60087529e+03, -1.82654002e+01, -2.47972042e+02,\n",
       "         1.41107736e+02],\n",
       "       [ 1.18133866e+01,  1.51852884e+01,  1.52113339e-01,\n",
       "        -4.30002400e-02, -2.52377277e-02,  3.14776536e+00,\n",
       "        -1.82654002e+01,  4.33759406e+02,  2.53290106e+00,\n",
       "         1.77842628e+01],\n",
       "       [-9.70630726e+00,  3.16350305e+01, -2.30280376e+00,\n",
       "         1.12267849e+00,  6.62872326e-01, -8.60618247e+01,\n",
       "        -2.47972042e+02,  2.53290106e+00,  6.81363178e+02,\n",
       "        -4.30230626e+02],\n",
       "       [ 1.32479447e+03,  4.61761921e+02,  1.54346558e+01,\n",
       "        -4.48542469e+00, -2.51566226e+00, -9.14642631e+02,\n",
       "         1.41107736e+02,  1.77842628e+01, -4.30230626e+02,\n",
       "         5.58454635e+03]])"
      ]
     },
     "execution_count": 8,
     "metadata": {},
     "output_type": "execute_result"
    }
   ],
   "source": [
    "scm1 = np.dot(z.T,z)/n\n",
    "scm1"
   ]
  },
  {
   "cell_type": "markdown",
   "metadata": {},
   "source": [
    "## 3. 样本均方差 - 2"
   ]
  },
  {
   "cell_type": "code",
   "execution_count": 74,
   "metadata": {},
   "outputs": [],
   "source": [
    "result = np.zeros([10,10])\n",
    "for zi in z:\n",
    "    zi = np.array([zi.T])\n",
    "    result += zi*zi.T\n",
    "scm2 = result/n"
   ]
  },
  {
   "cell_type": "markdown",
   "metadata": {},
   "source": [
    "## 4. 属性1和属性2的余弦相似度"
   ]
  },
  {
   "cell_type": "code",
   "execution_count": 82,
   "metadata": {},
   "outputs": [
    {
     "data": {
      "text/plain": [
       "5.21246684085933e-08"
      ]
     },
     "execution_count": 82,
     "metadata": {},
     "output_type": "execute_result"
    }
   ],
   "source": [
    "a1 = z[:,0]\n",
    "a2 = z[:,1]\n",
    "c = a1.dot(a2)/(a1.dot(a1)*a2.dot(a2))\n",
    "c"
   ]
  },
  {
   "cell_type": "markdown",
   "metadata": {},
   "source": [
    "## 4.1 散点图"
   ]
  },
  {
   "cell_type": "code",
   "execution_count": 86,
   "metadata": {},
   "outputs": [
    {
     "data": {
      "text/plain": [
       "<matplotlib.collections.PathCollection at 0x7f1fe0e2f588>"
      ]
     },
     "execution_count": 86,
     "metadata": {},
     "output_type": "execute_result"
    },
    {
     "data": {
      "image/png": "[encoded data removed]",
      "text/plain": [
       "<Figure size 432x288 with 1 Axes>"
      ]
     },
     "metadata": {},
     "output_type": "display_data"
    }
   ],
   "source": [
    "plt.scatter(a1,a2)  "
   ]
  },
  {
   "cell_type": "code",
   "execution_count": 104,
   "metadata": {},
   "outputs": [
    {
     "data": {
      "text/plain": [
       "[<matplotlib.lines.Line2D at 0x7f1fd89ba240>]"
      ]
     },
     "execution_count": 104,
     "metadata": {},
     "output_type": "execute_result"
    },
    {
     "data": {
      "image/png": "[encoded data removed]",
      "text/plain": [
       "<Figure size 432x288 with 1 Axes>"
      ]
     },
     "metadata": {},
     "output_type": "display_data"
    }
   ],
   "source": [
    "mu, sigma = 0, .1\n",
    "count, bins, _ = plt.hist(a1/n, bins=500, color='steelblue',density=True)"
   ]
  },
  {
   "cell_type": "markdown",
   "metadata": {},
   "source": [
    "## 方差"
   ]
  },
  {
   "cell_type": "code",
   "execution_count": 112,
   "metadata": {},
   "outputs": [],
   "source": [
    "vars = [(np.var(z[:,i])) for i in range(m)]"
   ]
  },
  {
   "cell_type": "markdown",
   "metadata": {},
   "source": [
    "## 最小的方差"
   ]
  },
  {
   "cell_type": "code",
   "execution_count": 128,
   "metadata": {},
   "outputs": [
    {
     "data": {
      "text/plain": [
       "4"
      ]
     },
     "execution_count": 128,
     "metadata": {},
     "output_type": "execute_result"
    }
   ],
   "source": [
    "np.where(vars == np.min(vars))[0][0]"
   ]
  },
  {
   "cell_type": "markdown",
   "metadata": {},
   "source": [
    "## 最大的方差"
   ]
  },
  {
   "cell_type": "code",
   "execution_count": 129,
   "metadata": {},
   "outputs": [
    {
     "data": {
      "text/plain": [
       "9"
      ]
     },
     "execution_count": 129,
     "metadata": {},
     "output_type": "execute_result"
    }
   ],
   "source": [
    "np.where(vars == np.max(vars))[0][0]"
   ]
  },
  {
   "cell_type": "markdown",
   "metadata": {},
   "source": [
    "## 协方差"
   ]
  },
  {
   "cell_type": "code",
   "execution_count": 135,
   "metadata": {},
   "outputs": [],
   "source": [
    "cov = {\n",
    "    \n",
    "}\n",
    "for i in range(m):\n",
    "    for j in range(m):\n",
    "        if i >= j:continue\n",
    "        cov[''+str(i)+'-'+str(j)]=np.cov(z[:,i],z[:,j])[0][1]"
   ]
  },
  {
   "cell_type": "code",
   "execution_count": 145,
   "metadata": {},
   "outputs": [
    {
     "data": {
      "text/plain": [
       "'0-9'"
      ]
     },
     "execution_count": 145,
     "metadata": {},
     "output_type": "execute_result"
    }
   ],
   "source": [
    "max_cov = min_cov = '0-1'\n",
    "for (key,value) in  cov.items():\n",
    "    if value > cov[max_cov]:\n",
    "        max_cov=key\n",
    "    if value < cov[min_cov]:\n",
    "        min_cov=key"
   ]
  },
  {
   "cell_type": "markdown",
   "metadata": {},
   "source": [
    "## 最大"
   ]
  },
  {
   "cell_type": "code",
   "execution_count": 147,
   "metadata": {},
   "outputs": [
    {
     "data": {
      "text/plain": [
       "'0-9'"
      ]
     },
     "execution_count": 147,
     "metadata": {},
     "output_type": "execute_result"
    }
   ],
   "source": [
    "max_cov"
   ]
  },
  {
   "cell_type": "markdown",
   "metadata": {},
   "source": [
    "## 最小"
   ]
  },
  {
   "cell_type": "code",
   "execution_count": 148,
   "metadata": {},
   "outputs": [
    {
     "data": {
      "text/plain": [
       "'0-5'"
      ]
     },
     "execution_count": 148,
     "metadata": {},
     "output_type": "execute_result"
    }
   ],
   "source": [
    "min_cov"
   ]
  },
  {
   "cell_type": "code",
   "execution_count": 149,
   "metadata": {},
   "outputs": [
    {
     "data": {
      "text/plain": [
       "array([[ 28.7967,  16.0021,   2.6449, ...,  -8.2027,  40.092 ,  81.8828],\n",
       "       [ 31.6036,  11.7235,   2.5185, ...,  -9.9574,   6.3609, 205.261 ],\n",
       "       [162.052 , 136.031 ,   4.0612, ..., -45.216 ,  76.96  , 256.788 ],\n",
       "       ...,\n",
       "       [ 75.4455,  47.5305,   3.4483, ...,  -9.4662,  30.2987, 256.5166],\n",
       "       [120.5135,  76.9018,   3.9939, ..., -63.8389,  84.6874, 408.3166],\n",
       "       [187.1814,  53.0014,   3.2093, ...,  31.4755,  52.731 , 272.3174]])"
      ]
     },
     "execution_count": 149,
     "metadata": {},
     "output_type": "execute_result"
    }
   ],
   "source": [
    "data"
   ]
  },
  {
   "cell_type": "code",
   "execution_count": null,
   "metadata": {},
   "outputs": [],
   "source": []
  }
 ],
 "metadata": {
  "kernelspec": {
   "display_name": "Python 3",
   "language": "python",
   "name": "python3"
  },
  "language_info": {
   "codemirror_mode": {
    "name": "ipython",
    "version": 3
   },
   "file_extension": ".py",
   "mimetype": "text/x-python",
   "name": "python",
   "nbconvert_exporter": "python",
   "pygments_lexer": "ipython3",
   "version": "3.5.2"
  }
 },
 "nbformat": 4,
 "nbformat_minor": 2
}
