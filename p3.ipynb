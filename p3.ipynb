{
 "cells": [
  {
   "cell_type": "code",
   "execution_count": 6,
   "metadata": {},
   "outputs": [],
   "source": [
    "import numpy as np\n",
    "import matplotlib.pyplot as plt\n",
    "from sklearn.cluster import DBSCAN\n",
    "from sklearn import datasets\n",
    "iris = datasets.load_iris()\n",
    "data = iris.data\n",
    "def DENCLUE(data, eps=0.3, min_samples=10):\n",
    "    db = DBSCAN(eps=eps, min_samples=min_samples).fit(data)\n",
    "    coreSampleMask = np.zeros_like(db.labels_, dtype = bool)\n",
    "    coreSampleMask[db.core_sample_indices_] = True\n",
    "    clusterLabels = iris.target\n",
    "    uniqueClusterLabels = set(clusterLabels)\n",
    "    colors = ['#ff0000', '#00ff00', '#0000ff']\n",
    "    markers = ['^', 'v','o']\n",
    "    for i, cluster in enumerate(uniqueClusterLabels):\n",
    "        clusterIndex = (clusterLabels == cluster)\n",
    "        coreSamples = data[clusterIndex & coreSampleMask]\n",
    "        plt.scatter(coreSamples[:, 0] + coreSamples[:, 1], coreSamples[:, 2] + coreSamples[:, 3],c=colors[i],  marker=markers[i], s=80)\n",
    "        noiseSamples = data[clusterIndex & ~coreSampleMask]\n",
    "        plt.scatter(noiseSamples[:, 0] + noiseSamples[:, 1],noiseSamples[:, 2] + noiseSamples[:, 3], c=colors[i], marker=markers[i], s=26)\n",
    "    plt.show()\n",
    "\n",
    "def get_density(self, x, X, y=None, sample_weight=None):\n",
    "    superweight = 0.\n",
    "    n_samples = X.shape[0]\n",
    "    n_features = X.shape[1]\n",
    "    if sample_weight is None:\n",
    "        sample_weight = np.ones((n_samples, 1))\n",
    "    else:\n",
    "        sample_weight = sample_weight\n",
    "    for y in range(n_samples):\n",
    "        kernel = kernelize(x, X[y], h=self.h, degree=n_features)\n",
    "        kernel = kernel * sample_weight[y] / (self.h ** n_features)\n",
    "        superweight = superweight + kernel\n",
    "    density = superweight / np.sum(sample_weight)\n",
    "    return density\n",
    "\n",
    "\n",
    "def kernelize(x, y, h, degree):\n",
    "    kernel = np.exp(-(np.linalg.norm(x - y) / h) ** 2. / 2.) / ((2. * np.pi) ** (degree / 2))\n",
    "    return kernel"
   ]
  },
  {
   "cell_type": "code",
   "execution_count": 7,
   "metadata": {},
   "outputs": [
    {
     "data": {
      "image/png": "[encoded data removed]",
      "text/plain": [
       "<Figure size 432x288 with 1 Axes>"
      ]
     },
     "metadata": {},
     "output_type": "display_data"
    }
   ],
   "source": [
    "DENCLUE(data, 10, 10)"
   ]
  },
  {
   "cell_type": "code",
   "execution_count": null,
   "metadata": {},
   "outputs": [],
   "source": []
  },
  {
   "cell_type": "code",
   "execution_count": null,
   "metadata": {},
   "outputs": [],
   "source": []
  }
 ],
 "metadata": {
  "kernelspec": {
   "display_name": "Python 3",
   "language": "python",
   "name": "python3"
  },
  "language_info": {
   "codemirror_mode": {
    "name": "ipython",
    "version": 3
   },
   "file_extension": ".py",
   "mimetype": "text/x-python",
   "name": "python",
   "nbconvert_exporter": "python",
   "pygments_lexer": "ipython3",
   "version": "3.5.2"
  }
 },
 "nbformat": 4,
 "nbformat_minor": 2
}
